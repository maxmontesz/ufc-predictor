{
 "cells": [
  {
   "cell_type": "code",
   "execution_count": 3,
   "id": "4b1557cc",
   "metadata": {},
   "outputs": [
    {
     "name": "stdout",
     "output_type": "stream",
     "text": [
      "Features (X) shape: (5902, 7)\n",
      "Target (y) shape: (5902,)\n"
     ]
    }
   ],
   "source": [
    "import pandas as pd\n",
    "from sklearn.model_selection import train_test_split\n",
    "from sklearn.linear_model import LogisticRegression\n",
    "from sklearn.ensemble import RandomForestClassifier\n",
    "\n",
    "# Loading preprocessed data\n",
    "df = pd.read_csv('../data/processed/ufc_data_processed.csv')\n",
    "\n",
    "# Separate features (X) and target (y)\n",
    "# X will containg all the columns except our target (y) 'B_win'\n",
    "X = df.drop('B_win', axis = 1)\n",
    "\n",
    "# y contains only our target column\n",
    "y = df['B_win']\n",
    "\n",
    "print('Features (X) shape:', X.shape)\n",
    "print('Target (y) shape:', y.shape)"
   ]
  },
  {
   "cell_type": "code",
   "execution_count": 4,
   "id": "44101055",
   "metadata": {},
   "outputs": [
    {
     "name": "stdout",
     "output_type": "stream",
     "text": [
      "X_train shape: (4721, 7)\n",
      "X_test shape: (1181, 7)\n"
     ]
    }
   ],
   "source": [
    "# Split the data into training and testing sets (80% train, 20% test)\n",
    "# We use stratify=y to ensure the proportion of wins/losses is the same in both sets\n",
    "# random_state ensures that we get the same split every time we run the code\n",
    "X_train, X_test, y_train, y_test = train_test_split(X, y, test_size=0.2, random_state=42, stratify=y)\n",
    "\n",
    "print(\"X_train shape:\", X_train.shape)\n",
    "print(\"X_test shape:\", X_test.shape)"
   ]
  },
  {
   "cell_type": "code",
   "execution_count": 5,
   "id": "48c52da9",
   "metadata": {},
   "outputs": [
    {
     "name": "stdout",
     "output_type": "stream",
     "text": [
      "Training Logistic Regression model...\n",
      "Logistic Regression model trained successfully!\n",
      "\n",
      "Training Random Forest model...\n",
      "Random Forest model trained successfully!\n"
     ]
    }
   ],
   "source": [
    "# Initialize the models\n",
    "log_reg = LogisticRegression(max_iter=1000) # max_iter helps the model converge\n",
    "rand_forest = RandomForestClassifier(random_state=42)\n",
    "\n",
    "# Train the Logistic Regression model\n",
    "print(\"Training Logistic Regression model...\")\n",
    "log_reg.fit(X_train, y_train)\n",
    "print(\"Logistic Regression model trained successfully!\")\n",
    "\n",
    "# Train the Random Forest model\n",
    "print(\"\\nTraining Random Forest model...\")\n",
    "rand_forest.fit(X_train, y_train)\n",
    "print(\"Random Forest model trained successfully!\")"
   ]
  },
  {
   "cell_type": "code",
   "execution_count": 6,
   "id": "0d10b511",
   "metadata": {},
   "outputs": [
    {
     "name": "stdout",
     "output_type": "stream",
     "text": [
      "Predictions generated for both models.\n",
      "First 10 predictions (Logistic Regression): [0 0 0 0 0 0 0 0 0 0]\n",
      "First 10 predictions (Random Forest): [0 0 0 0 0 1 0 0 0 0]\n"
     ]
    }
   ],
   "source": [
    "# Make predictions on the test set\n",
    "y_pred_log_reg = log_reg.predict(X_test)\n",
    "y_pred_rand_forest = rand_forest.predict(X_test)\n",
    "\n",
    "print(\"Predictions generated for both models.\")\n",
    "print(\"First 10 predictions (Logistic Regression):\", y_pred_log_reg[:10])\n",
    "print(\"First 10 predictions (Random Forest):\", y_pred_rand_forest[:10])"
   ]
  },
  {
   "cell_type": "code",
   "execution_count": 7,
   "id": "1e0778ab",
   "metadata": {},
   "outputs": [],
   "source": [
    "# Import libraries for evaluation\n",
    "from sklearn.metrics import accuracy_score, classification_report, confusion_matrix, RocCurveDisplay\n",
    "import matplotlib.pyplot as plt"
   ]
  },
  {
   "cell_type": "code",
   "execution_count": 8,
   "id": "e3a9949a",
   "metadata": {},
   "outputs": [
    {
     "name": "stdout",
     "output_type": "stream",
     "text": [
      "--- Logistic Regression Evaluation ---\n",
      "Accuracy: 0.6757\n",
      "\n",
      "Classification Report:\n",
      "              precision    recall  f1-score   support\n",
      "\n",
      "    Red Wins       0.68      0.97      0.80       796\n",
      "   Blue Wins       0.52      0.07      0.12       385\n",
      "\n",
      "    accuracy                           0.68      1181\n",
      "   macro avg       0.60      0.52      0.46      1181\n",
      "weighted avg       0.63      0.68      0.58      1181\n",
      "\n",
      "\n",
      "Confusion Matrix:\n",
      "[[772  24]\n",
      " [359  26]]\n"
     ]
    }
   ],
   "source": [
    "print(\"--- Logistic Regression Evaluation ---\")\n",
    "\n",
    "# Calculate Accuracy\n",
    "accuracy_lr = accuracy_score(y_test, y_pred_log_reg)\n",
    "print(f\"Accuracy: {accuracy_lr:.4f}\") # .4f formats the number to 4 decimal places\n",
    "\n",
    "# Display the Classification Report\n",
    "print(\"\\nClassification Report:\")\n",
    "print(classification_report(y_test, y_pred_log_reg, target_names=['Red Wins', 'Blue Wins']))\n",
    "\n",
    "# Display the Confusion Matrix\n",
    "print(\"\\nConfusion Matrix:\")\n",
    "print(confusion_matrix(y_test, y_pred_log_reg))"
   ]
  },
  {
   "cell_type": "code",
   "execution_count": 9,
   "id": "b131896d",
   "metadata": {},
   "outputs": [
    {
     "name": "stdout",
     "output_type": "stream",
     "text": [
      "\n",
      "--- Random Forest Evaluation ---\n",
      "Accuracy: 0.6596\n",
      "\n",
      "Classification Report:\n",
      "              precision    recall  f1-score   support\n",
      "\n",
      "    Red Wins       0.69      0.90      0.78       796\n",
      "   Blue Wins       0.44      0.17      0.24       385\n",
      "\n",
      "    accuracy                           0.66      1181\n",
      "   macro avg       0.57      0.53      0.51      1181\n",
      "weighted avg       0.61      0.66      0.61      1181\n",
      "\n",
      "\n",
      "Confusion Matrix:\n",
      "[[714  82]\n",
      " [320  65]]\n"
     ]
    }
   ],
   "source": [
    "print(\"\\n--- Random Forest Evaluation ---\")\n",
    "\n",
    "# Calculate Accuracy\n",
    "accuracy_rf = accuracy_score(y_test, y_pred_rand_forest)\n",
    "print(f\"Accuracy: {accuracy_rf:.4f}\")\n",
    "\n",
    "# Display the Classification Report\n",
    "print(\"\\nClassification Report:\")\n",
    "print(classification_report(y_test, y_pred_rand_forest, target_names=['Red Wins', 'Blue Wins']))\n",
    "\n",
    "# Display the Confusion Matrix\n",
    "print(\"\\nConfusion Matrix:\")\n",
    "print(confusion_matrix(y_test, y_pred_rand_forest))"
   ]
  },
  {
   "cell_type": "code",
   "execution_count": 10,
   "id": "51b6ba0a",
   "metadata": {},
   "outputs": [
    {
     "data": {
      "image/png": "[encoded data removed]",
      "text/plain": [
       "<Figure size 800x600 with 1 Axes>"
      ]
     },
     "metadata": {},
     "output_type": "display_data"
    }
   ],
   "source": [
    "# Create a figure for the plot\n",
    "fig, ax = plt.subplots(figsize=(8, 6))\n",
    "\n",
    "# Plot the ROC curve for the Logistic Regression model\n",
    "RocCurveDisplay.from_estimator(log_reg, X_test, y_test, name='Logistic Regression', ax=ax)\n",
    "\n",
    "# Plot the ROC curve for the Random Forest model on the same axes\n",
    "RocCurveDisplay.from_estimator(rand_forest, X_test, y_test, name='Random Forest', ax=ax)\n",
    "\n",
    "# Add a title and labels\n",
    "plt.title('ROC Curve Comparison')\n",
    "plt.xlabel('False Positive Rate')\n",
    "plt.ylabel('True Positive Rate')\n",
    "plt.grid(True)\n",
    "plt.show()"
   ]
  },
  {
   "cell_type": "code",
   "execution_count": 11,
   "id": "96597dd0",
   "metadata": {},
   "outputs": [
    {
     "name": "stdout",
     "output_type": "stream",
     "text": [
      "Model saved successfully to ../models/ufc_predictor_log_reg.joblib\n",
      "\n",
      "Model loaded successfully.\n",
      "Loaded model type: <class 'sklearn.linear_model._logistic.LogisticRegression'>\n"
     ]
    }
   ],
   "source": [
    "import joblib\n",
    "\n",
    "# --- Save Logistic Regression ---------\n",
    "chosen_model = log_reg\n",
    "model_filename = '../models/ufc_predictor_log_reg.joblib'\n",
    "\n",
    "\n",
    "# Save the trained model to the file\n",
    "joblib.dump(chosen_model, model_filename)\n",
    "\n",
    "print(f\"Model saved successfully to {model_filename}\")\n",
    "\n",
    "# You can also test loading it back to be sure\n",
    "loaded_model = joblib.load(model_filename)\n",
    "print(\"\\nModel loaded successfully.\")\n",
    "print(\"Loaded model type:\", type(loaded_model))"
   ]
  },
  {
   "cell_type": "code",
   "execution_count": null,
   "id": "b8421497",
   "metadata": {},
   "outputs": [],
   "source": []
  }
 ],
 "metadata": {
  "kernelspec": {
   "display_name": "venv",
   "language": "python",
   "name": "python3"
  },
  "language_info": {
   "codemirror_mode": {
    "name": "ipython",
    "version": 3
   },
   "file_extension": ".py",
   "mimetype": "text/x-python",
   "name": "python",
   "nbconvert_exporter": "python",
   "pygments_lexer": "ipython3",
   "version": "3.13.0"
  }
 },
 "nbformat": 4,
 "nbformat_minor": 5
}
